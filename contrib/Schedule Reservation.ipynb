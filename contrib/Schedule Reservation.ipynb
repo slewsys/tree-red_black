{
 "cells": [
  {
   "cell_type": "code",
   "execution_count": 1,
   "metadata": {},
   "outputs": [
    {
     "data": {
      "text/plain": [
       "#<refinement:Integer@IntegerTime>"
      ]
     },
     "execution_count": 1,
     "metadata": {},
     "output_type": "execute_result"
    }
   ],
   "source": [
    "require_relative '../lib/tree/red_black'\n",
    "\n",
    "module IntegerTime\n",
    "  interval_in_seconds = {\n",
    "    second: 1,\n",
    "    minute: 60,\n",
    "    hour: 60 * 60,\n",
    "    day: 24 * 60 * 60,\n",
    "    week: 7 * 24 * 60 * 60,\n",
    "  }\n",
    "\n",
    "  refine Integer do\n",
    "    interval_in_seconds.keys.each do |key|\n",
    "      define_method(key) { self * interval_in_seconds[key] }\n",
    "      define_method((key.to_s + 's').to_sym) { self * interval_in_seconds[key] }\n",
    "    end\n",
    "  end\n",
    "end"
   ]
  },
  {
   "cell_type": "code",
   "execution_count": 2,
   "metadata": {},
   "outputs": [
    {
     "data": {
      "text/plain": [
       ":inspect"
      ]
     },
     "execution_count": 2,
     "metadata": {},
     "output_type": "execute_result"
    }
   ],
   "source": [
    "class BusyFreeEvent\n",
    "  include Comparable\n",
    "\n",
    "  attr_reader :time, :owner\n",
    "\n",
    "  def initialize(time, owner)\n",
    "    @time = time\n",
    "    @owner = owner\n",
    "  end\n",
    "\n",
    "  def <=>(other)\n",
    "    time <=> other.time\n",
    "  end\n",
    "\n",
    "  def inspect\n",
    "    { time => owner }\n",
    "  end\n",
    "end\n"
   ]
  },
  {
   "cell_type": "code",
   "execution_count": 3,
   "metadata": {},
   "outputs": [
    {
     "data": {
      "text/plain": [
       ":inspect"
      ]
     },
     "execution_count": 3,
     "metadata": {},
     "output_type": "execute_result"
    }
   ],
   "source": [
    "class Reservation\n",
    "  attr_reader :from, :to, :owner\n",
    "\n",
    "  def initialize(from, to, owner)\n",
    "    @from = from\n",
    "    @to = to\n",
    "    @owner = owner\n",
    "  end\n",
    "\n",
    "  def inspect\n",
    "    { [from, to] => owner }\n",
    "  end\n",
    "end"
   ]
  },
  {
   "cell_type": "code",
   "execution_count": 4,
   "metadata": {},
   "outputs": [
    {
     "data": {
      "text/plain": [
       ":is_consistent?"
      ]
     },
     "execution_count": 4,
     "metadata": {},
     "output_type": "execute_result"
    }
   ],
   "source": [
    "class Schedule\n",
    "  using IntegerTime\n",
    "\n",
    "  attr_accessor :events\n",
    "\n",
    "  def initialize\n",
    "    @events = Tree::RedBlack.new(false)\n",
    "  end\n",
    "\n",
    "  def reserve(from:, to: from + 1.hour,  owner:)\n",
    "    return nil if owner == :FREE\n",
    "\n",
    "    next_owner = :FREE\n",
    "    total_events = events.size\n",
    "\n",
    "    rsv_from = BusyFreeEvent.new(from, owner)\n",
    "    rsv_to = BusyFreeEvent.new(to, next_owner)\n",
    "\n",
    "    if total_events.zero?\n",
    "      events.insert(rsv_from, rsv_to)\n",
    "    else\n",
    "      succ_event = events.bsearch { |event| event.key > rsv_from }\n",
    "      if succ_event.nil?\n",
    "        pred_event = events.root.max\n",
    "\n",
    "        # Assert: pred_event.key.owner == :FREE\n",
    "        if pred_event.key == rsv_from\n",
    "          events.delete(pred_event.key)\n",
    "          total_events -= 1\n",
    "        end\n",
    "        events.insert(rsv_from, rsv_to)\n",
    "      elsif succ_event.key >= rsv_to\n",
    "        pred_event = succ_event.pred\n",
    "        if pred_event.nil? || pred_event.key.owner == :FREE\n",
    "          events.delete(pred_event.key) if pred_event&.key == rsv_from\n",
    "          events.insert(rsv_from)\n",
    "          if succ_event.key != rsv_to\n",
    "\n",
    "            # Assert: succ_event.key.owner != :FREE\n",
    "            events.insert(rsv_to)\n",
    "          else\n",
    "            next_owner = succ_event.key.owner\n",
    "            total_events -= 1\n",
    "          end\n",
    "        end\n",
    "      end\n",
    "    end\n",
    "\n",
    "    # Assert: inserts/deletes successful\n",
    "    events.size == total_events + 2 ? Reservation.new(from, to, owner) : nil\n",
    "  end\n",
    "\n",
    "  def unreserve(reservation)\n",
    "    event = events.bsearch { |ev| ev.key.time >= reservation.from }\n",
    "\n",
    "    return false if (event.nil? || event.key.time != reservation.from || event.key.owner != reservation.owner)\n",
    "\n",
    "    # Assert: event.key.owner != :FREE\n",
    "    pred_event = event.pred\n",
    "    succ_event = event.succ\n",
    "\n",
    "    # Assert: ! succ_event.nil?\n",
    "\n",
    "    events.delete(event.key)\n",
    "    events.delete(succ_event.key) if succ_event.key.owner == :FREE\n",
    "    events.insert(BusyFreeEvent.new(reservation.from, :FREE)) if pred_event && pred_event.key.owner != :FREE\n",
    "    true\n",
    "  end\n",
    "\n",
    "  def is_consistent?\n",
    "    count = 0\n",
    "    prev = nil\n",
    "    event = events.root&.min\n",
    "    return false if event && event.key.owner == :FREE\n",
    "    while event\n",
    "      return false if prev&.key&.owner == :FREE && event.key.owner == :FREE\n",
    "      prev = event\n",
    "      event = event.succ\n",
    "      count += 1\n",
    "    end\n",
    "    return false if prev && prev.key.owner != :FREE\n",
    "    count == events.size && prev&.key&.owner == :FREE\n",
    "  end\n",
    "end"
   ]
  },
  {
   "cell_type": "code",
   "execution_count": 5,
   "metadata": {},
   "outputs": [
    {
     "name": "stdout",
     "output_type": "stream",
     "text": [
      "Before:\n",
      "First reservation:\n",
      "reservation: {[2020-06-19 01:31:58.654815909 -0400, 2020-06-19 02:31:58.654815909 -0400]=>:BUSY3}\n",
      "After first reservation:\n",
      "key: {2020-06-19 01:31:58.654815909 -0400=>:BUSY3}\n",
      "key: {2020-06-19 02:31:58.654815909 -0400=>:FREE}\n"
     ]
    }
   ],
   "source": [
    "using IntegerTime\n",
    "\n",
    "sched = Schedule.new\n",
    "reserve_time = Time.now\n",
    "\n",
    "puts \"Before:\"\n",
    "sched.events.each do |event|\n",
    "  puts \"key: #{event.key}\"\n",
    "end\n",
    "\n",
    "puts \"First reservation:\"\n",
    "reservation1 = sched.reserve(from: reserve_time, owner: :BUSY3)\n",
    "puts \"reservation: #{reservation1.inspect}\"\n",
    "\n",
    "puts \"After first reservation:\"\n",
    "sched.events.each do |event|\n",
    "  puts \"key: #{event.key.inspect}\"\n",
    "end"
   ]
  },
  {
   "cell_type": "code",
   "execution_count": 6,
   "metadata": {},
   "outputs": [
    {
     "name": "stdout",
     "output_type": "stream",
     "text": [
      "Second reservation:\n",
      "reservation: {[2020-06-19 00:31:58.654815909 -0400, 2020-06-19 01:31:58.654815909 -0400]=>:BUSY2}\n",
      "After second reservation:\n",
      "key: {2020-06-19 00:31:58.654815909 -0400=>:BUSY2}\n",
      "key: {2020-06-19 01:31:58.654815909 -0400=>:BUSY3}\n",
      "key: {2020-06-19 02:31:58.654815909 -0400=>:FREE}\n"
     ]
    }
   ],
   "source": [
    "puts \"Second reservation:\"\n",
    "reservation2 = sched.reserve(from: reserve_time - 1.hour, owner: :BUSY2)\n",
    "puts \"reservation: #{reservation2.inspect}\"\n",
    "\n",
    "puts \"After second reservation:\"\n",
    "sched.events.each do |event|\n",
    "  puts \"key: #{event.key.inspect}\"\n",
    "end"
   ]
  },
  {
   "cell_type": "code",
   "execution_count": 7,
   "metadata": {},
   "outputs": [
    {
     "name": "stdout",
     "output_type": "stream",
     "text": [
      "Third reservation:\n",
      "reservation: {[2020-06-19 02:31:58.654815909 -0400, 2020-06-19 03:31:58.654815909 -0400]=>:BUSY4}\n",
      "After third reservation:\n",
      "key: {2020-06-19 00:31:58.654815909 -0400=>:BUSY2}\n",
      "key: {2020-06-19 01:31:58.654815909 -0400=>:BUSY3}\n",
      "key: {2020-06-19 02:31:58.654815909 -0400=>:BUSY4}\n",
      "key: {2020-06-19 03:31:58.654815909 -0400=>:FREE}\n"
     ]
    }
   ],
   "source": [
    "puts \"Third reservation:\"\n",
    "reservation3 = sched.reserve(from: reserve_time + 1.hour, owner: :BUSY4)\n",
    "puts \"reservation: #{reservation3.inspect}\"\n",
    "\n",
    "puts \"After third reservation:\"\n",
    "sched.events.each do |event|\n",
    "  puts \"key: #{event.key.inspect}\"\n",
    "end"
   ]
  },
  {
   "cell_type": "code",
   "execution_count": 8,
   "metadata": {},
   "outputs": [
    {
     "name": "stdout",
     "output_type": "stream",
     "text": [
      "Fourth reservation:\n",
      "reservation: {[2020-06-18 21:31:58.654815909 -0400, 2020-06-18 22:31:58.654815909 -0400]=>:BUSY0}\n",
      "After fourth reservation:\n",
      "key: {2020-06-18 21:31:58.654815909 -0400=>:BUSY0}\n",
      "key: {2020-06-18 22:31:58.654815909 -0400=>:FREE}\n",
      "key: {2020-06-19 00:31:58.654815909 -0400=>:BUSY2}\n",
      "key: {2020-06-19 01:31:58.654815909 -0400=>:BUSY3}\n",
      "key: {2020-06-19 02:31:58.654815909 -0400=>:BUSY4}\n",
      "key: {2020-06-19 03:31:58.654815909 -0400=>:FREE}\n"
     ]
    }
   ],
   "source": [
    "puts \"Fourth reservation:\"\n",
    "reservation4 = sched.reserve(from: reserve_time - 4.hours, owner: :BUSY0)\n",
    "puts \"reservation: #{reservation4.inspect}\"\n",
    "\n",
    "puts \"After fourth reservation:\"\n",
    "sched.events.each do |event|\n",
    "  puts \"key: #{event.key.inspect}\"\n",
    "end"
   ]
  },
  {
   "cell_type": "code",
   "execution_count": 9,
   "metadata": {},
   "outputs": [
    {
     "name": "stdout",
     "output_type": "stream",
     "text": [
      "Fifth reservation:\n",
      "reservation: {[2020-06-18 23:31:58.654815909 -0400, 2020-06-19 00:01:58.654815909 -0400]=>:BUSY1}\n",
      "After fifth reservation:\n",
      "key: {2020-06-18 21:31:58.654815909 -0400=>:BUSY0}\n",
      "key: {2020-06-18 22:31:58.654815909 -0400=>:FREE}\n",
      "key: {2020-06-18 23:31:58.654815909 -0400=>:BUSY1}\n",
      "key: {2020-06-19 00:01:58.654815909 -0400=>:FREE}\n",
      "key: {2020-06-19 00:31:58.654815909 -0400=>:BUSY2}\n",
      "key: {2020-06-19 01:31:58.654815909 -0400=>:BUSY3}\n",
      "key: {2020-06-19 02:31:58.654815909 -0400=>:BUSY4}\n",
      "key: {2020-06-19 03:31:58.654815909 -0400=>:FREE}\n"
     ]
    }
   ],
   "source": [
    "puts \"Fifth reservation:\"\n",
    "reservation5 = sched.reserve(from: reserve_time - 2.hours, to: reserve_time - 90.minutes, owner: :BUSY1)\n",
    "puts \"reservation: #{reservation5.inspect}\"\n",
    "\n",
    "puts \"After fifth reservation:\"\n",
    "sched.events.each do |event|\n",
    "  puts \"key: #{event.key.inspect}\"\n",
    "end"
   ]
  },
  {
   "cell_type": "code",
   "execution_count": 10,
   "metadata": {},
   "outputs": [
    {
     "name": "stdout",
     "output_type": "stream",
     "text": [
      "Schedule is consistent?: true\n"
     ]
    }
   ],
   "source": [
    "puts \"Schedule is consistent?: #{sched.is_consistent?}\""
   ]
  },
  {
   "cell_type": "code",
   "execution_count": 11,
   "metadata": {},
   "outputs": [
    {
     "name": "stdout",
     "output_type": "stream",
     "text": [
      "Delete fifth reservation:\n",
      "result: true\n",
      "After deleting fifth reservation:\n",
      "key: {2020-06-18 21:31:58.654815909 -0400=>:BUSY0}\n",
      "key: {2020-06-18 22:31:58.654815909 -0400=>:FREE}\n",
      "key: {2020-06-19 00:31:58.654815909 -0400=>:BUSY2}\n",
      "key: {2020-06-19 01:31:58.654815909 -0400=>:BUSY3}\n",
      "key: {2020-06-19 02:31:58.654815909 -0400=>:BUSY4}\n",
      "key: {2020-06-19 03:31:58.654815909 -0400=>:FREE}\n"
     ]
    }
   ],
   "source": [
    "puts \"Delete fifth reservation:\"\n",
    "result = sched.unreserve(reservation5)\n",
    "puts \"result: #{result}\"\n",
    "\n",
    "puts \"After deleting fifth reservation:\"\n",
    "sched.events.each do |event|\n",
    "  puts \"key: #{event.key.inspect}\"\n",
    "end"
   ]
  },
  {
   "cell_type": "code",
   "execution_count": 12,
   "metadata": {},
   "outputs": [
    {
     "name": "stdout",
     "output_type": "stream",
     "text": [
      "Delete fourth reservation:\n",
      "result: true\n",
      "After deleting fourth reservation:\n",
      "key: {2020-06-19 00:31:58.654815909 -0400=>:BUSY2}\n",
      "key: {2020-06-19 01:31:58.654815909 -0400=>:BUSY3}\n",
      "key: {2020-06-19 02:31:58.654815909 -0400=>:BUSY4}\n",
      "key: {2020-06-19 03:31:58.654815909 -0400=>:FREE}\n"
     ]
    }
   ],
   "source": [
    "puts \"Delete fourth reservation:\"\n",
    "result = sched.unreserve(reservation4)\n",
    "puts \"result: #{result}\"\n",
    "\n",
    "puts \"After deleting fourth reservation:\"\n",
    "sched.events.each do |event|\n",
    "  puts \"key: #{event.key.inspect}\"\n",
    "end"
   ]
  },
  {
   "cell_type": "code",
   "execution_count": 13,
   "metadata": {},
   "outputs": [
    {
     "name": "stdout",
     "output_type": "stream",
     "text": [
      "Delete third reservation:\n",
      "result: true\n",
      "After deleting third reservation:\n",
      "key: {2020-06-19 00:31:58.654815909 -0400=>:BUSY2}\n",
      "key: {2020-06-19 01:31:58.654815909 -0400=>:BUSY3}\n",
      "key: {2020-06-19 02:31:58.654815909 -0400=>:FREE}\n"
     ]
    }
   ],
   "source": [
    "puts \"Delete third reservation:\"\n",
    "result = sched.unreserve(reservation3)\n",
    "puts \"result: #{result}\"\n",
    "\n",
    "puts \"After deleting third reservation:\"\n",
    "sched.events.each do |event|\n",
    "  puts \"key: #{event.key.inspect}\"\n",
    "end"
   ]
  },
  {
   "cell_type": "code",
   "execution_count": 14,
   "metadata": {},
   "outputs": [
    {
     "name": "stdout",
     "output_type": "stream",
     "text": [
      "Delete second reservation:\n",
      "result: true\n",
      "After deleting second reservation:\n",
      "key: {2020-06-19 01:31:58.654815909 -0400=>:BUSY3}\n",
      "key: {2020-06-19 02:31:58.654815909 -0400=>:FREE}\n"
     ]
    }
   ],
   "source": [
    "puts \"Delete second reservation:\"\n",
    "result = sched.unreserve(reservation2)\n",
    "puts \"result: #{result}\"\n",
    "\n",
    "puts \"After deleting second reservation:\"\n",
    "sched.events.each do |event|\n",
    "  puts \"key: #{event.key.inspect}\"\n",
    "end"
   ]
  },
  {
   "cell_type": "code",
   "execution_count": 15,
   "metadata": {},
   "outputs": [
    {
     "name": "stdout",
     "output_type": "stream",
     "text": [
      "Delete first reservation:\n",
      "result: true\n",
      "After deleting first reservation:\n"
     ]
    }
   ],
   "source": [
    "puts \"Delete first reservation:\"\n",
    "result = sched.unreserve(reservation1)\n",
    "puts \"result: #{result}\"\n",
    "\n",
    "puts \"After deleting first reservation:\"\n",
    "sched.events.each do |event|\n",
    "  puts \"key: #{event.key.inspect}\"\n",
    "end"
   ]
  },
  {
   "cell_type": "code",
   "execution_count": null,
   "metadata": {},
   "outputs": [],
   "source": []
  }
 ],
 "metadata": {
  "kernelspec": {
   "display_name": "Ruby 2.7.1",
   "language": "ruby",
   "name": "ruby"
  },
  "language_info": {
   "file_extension": ".rb",
   "mimetype": "application/x-ruby",
   "name": "ruby",
   "version": "2.7.1"
  }
 },
 "nbformat": 4,
 "nbformat_minor": 4
}
